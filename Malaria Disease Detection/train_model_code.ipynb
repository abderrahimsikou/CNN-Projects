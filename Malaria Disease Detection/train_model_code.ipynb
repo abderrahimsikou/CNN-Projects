{
  "cells": [
    {
      "cell_type": "code",
      "execution_count": null,
      "metadata": {
        "id": "aLWQZJQot0q6"
      },
      "outputs": [],
      "source": [
        "# [connect kaggle with google colab to get dataset without downloading it]\n",
        "\n",
        "# kaggle information\n",
        "\n",
        "import os\n",
        "os.environ['KAGGLE_USERNAME'] = ''                    # kaggle username\n",
        "os.environ['KAGGLE_KEY']      = ''  #kaggle key"
      ]
    },
    {
      "cell_type": "code",
      "execution_count": null,
      "metadata": {
        "id": "hCHD6_yaa28l",
        "colab": {
          "base_uri": "https://localhost:8080/"
        },
        "outputId": "7b89bfbd-1a32-4383-fa19-92ca2f20fa08"
      },
      "outputs": [
        {
          "output_type": "stream",
          "name": "stdout",
          "text": [
            "Dataset URL: https://www.kaggle.com/datasets/miracle9to9/files1\n",
            "License(s): ODC Attribution License (ODC-By)\n",
            "Downloading files1.zip to /content\n",
            "100% 524M/525M [00:27<00:00, 20.4MB/s]\n",
            "100% 525M/525M [00:27<00:00, 19.7MB/s]\n"
          ]
        }
      ],
      "source": [
        "# dataset path from kggle\n",
        "!kaggle datasets download miracle9to9/files1"
      ]
    },
    {
      "cell_type": "code",
      "execution_count": null,
      "metadata": {
        "id": "Iulhi4Ega4w5"
      },
      "outputs": [],
      "source": [
        "# unzip file\n",
        "!unzip files1.zip"
      ]
    },
    {
      "cell_type": "code",
      "execution_count": 5,
      "metadata": {
        "id": "OwW63rJ_jawi"
      },
      "outputs": [],
      "source": [
        "# Import Libraries\n",
        "from tensorflow.keras.preprocessing.image import ImageDataGenerator\n",
        "from tensorflow.keras.models import Sequential\n",
        "from tensorflow.keras.layers import Conv2D, MaxPooling2D, Flatten, Dense, Dropout\n",
        "import numpy as np\n",
        "from keras.preprocessing import image\n",
        "from keras.models import load_model"
      ]
    },
    {
      "cell_type": "code",
      "execution_count": null,
      "metadata": {
        "id": "mbzlfru2jh8y"
      },
      "outputs": [],
      "source": [
        "# Preparation of Data\n",
        "train_datagen = ImageDataGenerator(rescale=1./255, shear_range=0.2, zoom_range=0.2, horizontal_flip=True)\n",
        "test_datagen = ImageDataGenerator(rescale=1./255)"
      ]
    },
    {
      "cell_type": "code",
      "execution_count": null,
      "metadata": {
        "id": "OAzmastsjluS"
      },
      "outputs": [],
      "source": [
        "# Dataset paths\n",
        "train_path = '/content/Malaria Cells/training_set'\n",
        "test_path = '/content/Malaria Cells/testing_set'"
      ]
    },
    {
      "cell_type": "code",
      "execution_count": null,
      "metadata": {
        "colab": {
          "base_uri": "https://localhost:8080/"
        },
        "id": "N0H4_eUPjpHD",
        "outputId": "c17fc15f-f39a-4a89-98d3-5160b51b8ff1"
      },
      "outputs": [
        {
          "output_type": "stream",
          "name": "stdout",
          "text": [
            "Found 27558 images belonging to 2 classes.\n",
            "Found 15832 images belonging to 2 classes.\n"
          ]
        }
      ],
      "source": [
        "# Read Data\n",
        "train_data = train_datagen.flow_from_directory(train_path, target_size=(64, 64), batch_size=32, class_mode='binary')\n",
        "test_data = test_datagen.flow_from_directory(test_path, target_size=(64, 64), batch_size=32, class_mode='binary')"
      ]
    },
    {
      "cell_type": "markdown",
      "metadata": {
        "id": "9mwXoA8dk1a5"
      },
      "source": []
    },
    {
      "cell_type": "code",
      "execution_count": null,
      "metadata": {
        "colab": {
          "base_uri": "https://localhost:8080/"
        },
        "id": "Re49-THFuLYX",
        "outputId": "75fb107c-a07b-4544-ae93-b783018d81c6"
      },
      "outputs": [
        {
          "output_type": "stream",
          "name": "stderr",
          "text": [
            "/usr/local/lib/python3.10/dist-packages/keras/src/layers/convolutional/base_conv.py:107: UserWarning: Do not pass an `input_shape`/`input_dim` argument to a layer. When using Sequential models, prefer using an `Input(shape)` object as the first layer in the model instead.\n",
            "  super().__init__(activity_regularizer=activity_regularizer, **kwargs)\n"
          ]
        }
      ],
      "source": [
        "# Build Model\n",
        "model = Sequential([\n",
        "    Conv2D(32, (3,3), activation='relu', input_shape=(64, 64, 3)),\n",
        "    MaxPooling2D(pool_size=(2,2)),\n",
        "\n",
        "    Conv2D(64, (3,3), activation='relu'),\n",
        "    MaxPooling2D(pool_size=(2,2)),\n",
        "    Dropout(0.3),\n",
        "\n",
        "    Conv2D(128, (3,3), activation='relu'),\n",
        "    MaxPooling2D(pool_size=(2,2)),\n",
        "    Dropout(0.4),\n",
        "\n",
        "    Flatten(),\n",
        "\n",
        "    Dense(128, activation='relu'),\n",
        "    Dense(1, activation='sigmoid')\n",
        "])"
      ]
    },
    {
      "cell_type": "code",
      "execution_count": null,
      "metadata": {
        "id": "GAQ05mmJj6mG"
      },
      "outputs": [],
      "source": [
        "# Compile the model\n",
        "model.compile(optimizer='adam', loss='binary_crossentropy', metrics=['accuracy'])\n",
        "\n",
        "# Train the model\n",
        "history = model.fit(train_data, steps_per_epoch=train_data.samples // train_data.batch_size, epochs=10,\n",
        "                    validation_data=test_data, validation_steps=test_data.samples // test_data.batch_size)\n",
        "\n",
        "# Evaluate the model\n",
        "loss, accuracy_test = model.evaluate(test_data)\n",
        "print(f'Accuracy: {accuracy_test * 100:.2f}%')"
      ]
    },
    {
      "cell_type": "markdown",
      "metadata": {
        "id": "HJJegkIlm0i_"
      },
      "source": []
    },
    {
      "cell_type": "code",
      "execution_count": null,
      "metadata": {
        "colab": {
          "base_uri": "https://localhost:8080/"
        },
        "id": "0HOtsmHmmr18",
        "outputId": "e89f3805-a6c9-4f94-f226-465ca240cc1f"
      },
      "outputs": [
        {
          "output_type": "stream",
          "name": "stderr",
          "text": [
            "WARNING:absl:You are saving your model as an HDF5 file via `model.save()` or `keras.saving.save_model(model)`. This file format is considered legacy. We recommend using instead the native Keras format, e.g. `model.save('my_model.keras')` or `keras.saving.save_model(model, 'my_model.keras')`. \n"
          ]
        }
      ],
      "source": [
        "model.save('model.h5')"
      ]
    },
    {
      "cell_type": "code",
      "execution_count": 7,
      "metadata": {
        "colab": {
          "base_uri": "https://localhost:8080/"
        },
        "id": "2UwqY3-rm8U5",
        "outputId": "2ac5e1d3-7f28-4322-c236-55d116356559"
      },
      "outputs": [
        {
          "output_type": "stream",
          "name": "stderr",
          "text": [
            "WARNING:absl:Compiled the loaded model, but the compiled metrics have yet to be built. `model.compile_metrics` will be empty until you train or evaluate the model.\n"
          ]
        },
        {
          "output_type": "stream",
          "name": "stdout",
          "text": [
            "\u001b[1m1/1\u001b[0m \u001b[32m━━━━━━━━━━━━━━━━━━━━\u001b[0m\u001b[37m\u001b[0m \u001b[1m0s\u001b[0m 345ms/step\n",
            "the prediction result is: Parasitised\n"
          ]
        }
      ],
      "source": [
        "# Predict code\n",
        "test_image = image.load_img('image path', target_size=(64,64))\n",
        "test_image =  image.img_to_array(test_image)\n",
        "test_image = np.expand_dims(test_image, axis=0)\n",
        "\n",
        "model = load_model('model path')\n",
        "\n",
        "result = model.predict(test_image)\n",
        "if result[0][0] == 0.5:\n",
        "  prediction = 'Uninfected'\n",
        "\n",
        "else:\n",
        "  prediction = 'Parasitised'\n",
        "\n",
        "print('the prediction result is:', prediction)"
      ]
    }
  ],
  "metadata": {
    "accelerator": "GPU",
    "colab": {
      "gpuType": "T4",
      "provenance": []
    },
    "kernelspec": {
      "display_name": "Python 3",
      "name": "python3"
    },
    "language_info": {
      "name": "python"
    }
  },
  "nbformat": 4,
  "nbformat_minor": 0
}