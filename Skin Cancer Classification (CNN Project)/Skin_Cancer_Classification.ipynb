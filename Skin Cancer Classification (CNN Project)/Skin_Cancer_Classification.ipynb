{
  "nbformat": 4,
  "nbformat_minor": 0,
  "metadata": {
    "colab": {
      "provenance": [],
      "gpuType": "T4"
    },
    "kernelspec": {
      "name": "python3",
      "display_name": "Python 3"
    },
    "language_info": {
      "name": "python"
    },
    "accelerator": "GPU"
  },
  "cells": [
    {
      "cell_type": "code",
      "source": [
        "# Import Libraries\n",
        "from tensorflow.keras.preprocessing.image import ImageDataGenerator\n",
        "from tensorflow.keras.models import Sequential\n",
        "from tensorflow.keras.layers import Conv2D, MaxPooling2D, Flatten, Dense, Dropout\n",
        "import numpy as np\n",
        "from keras.preprocessing import image\n",
        "from keras.models import load_model"
      ],
      "metadata": {
        "id": "yq_hX1kNNQ6n"
      },
      "execution_count": 1,
      "outputs": []
    },
    {
      "cell_type": "code",
      "source": [
        "# Preparation of Data\n",
        "train_datagen = ImageDataGenerator(rescale=1./255, shear_range=0.2, zoom_range=0.2, horizontal_flip=True)\n",
        "test_datagen = ImageDataGenerator(rescale=1./255)"
      ],
      "metadata": {
        "id": "sUJnkuftNQ8d"
      },
      "execution_count": 2,
      "outputs": []
    },
    {
      "cell_type": "code",
      "source": [
        "# Dataset paths\n",
        "train_path = '/content/drive/MyDrive/Skin_Data/training_set'\n",
        "test_path = '/content/drive/MyDrive/Skin_Data/testing_set'"
      ],
      "metadata": {
        "id": "5TOfs8yCM4bW"
      },
      "execution_count": 3,
      "outputs": []
    },
    {
      "cell_type": "code",
      "source": [
        "# Read Data\n",
        "train_data = train_datagen.flow_from_directory(train_path, target_size=(64, 64), batch_size=32, class_mode='binary')\n",
        "test_data = test_datagen.flow_from_directory(test_path, target_size=(64, 64), batch_size=32, class_mode='binary')"
      ],
      "metadata": {
        "colab": {
          "base_uri": "https://localhost:8080/"
        },
        "id": "WGtASnwMYp3B",
        "outputId": "0e55a45a-66db-40df-e739-995869980c3f"
      },
      "execution_count": 4,
      "outputs": [
        {
          "output_type": "stream",
          "name": "stdout",
          "text": [
            "Found 84 images belonging to 2 classes.\n",
            "Found 204 images belonging to 2 classes.\n"
          ]
        }
      ]
    },
    {
      "cell_type": "code",
      "source": [
        "print('indice:', train_data.class_indices)"
      ],
      "metadata": {
        "colab": {
          "base_uri": "https://localhost:8080/"
        },
        "id": "yJugiBEbocz-",
        "outputId": "7e377c0f-1d63-4646-c029-e37bf07d7645"
      },
      "execution_count": 71,
      "outputs": [
        {
          "output_type": "stream",
          "name": "stdout",
          "text": [
            "indice: {'Cancer': 0, 'Non_Cancer': 1}\n"
          ]
        }
      ]
    },
    {
      "cell_type": "code",
      "source": [
        "# Build Model\n",
        "model = Sequential([\n",
        "    Conv2D(32, (3,3), activation='relu', input_shape=(64, 64, 3)),\n",
        "    MaxPooling2D(pool_size=(2,2)),\n",
        "\n",
        "    Conv2D(64, (3,3), activation='relu'),\n",
        "    MaxPooling2D(pool_size=(2,2)),\n",
        "    Dropout(0.2),\n",
        "\n",
        "    Conv2D(128, (3,3), activation='relu'),\n",
        "    MaxPooling2D(pool_size=(2,2)),\n",
        "    Dropout(0.2),\n",
        "\n",
        "    Flatten(),\n",
        "\n",
        "    Dense(128, activation='relu'),\n",
        "    Dense(1, activation='sigmoid')\n",
        "])"
      ],
      "metadata": {
        "id": "P5I9TGceY09e"
      },
      "execution_count": 86,
      "outputs": []
    },
    {
      "cell_type": "code",
      "source": [
        "# Compile the model\n",
        "model.compile(optimizer='adam', loss='binary_crossentropy', metrics=['accuracy'])\n",
        "\n",
        "# Train the model\n",
        "history = model.fit(train_data, steps_per_epoch=train_data.samples // train_data.batch_size, epochs=10,\n",
        "                    validation_data=test_data, validation_steps=test_data.samples // test_data.batch_size)\n",
        "\n",
        "# Evaluate the model\n",
        "loss, accuracy_test = model.evaluate(test_data)\n",
        "print('accuracy:', accuracy_test * 100,'%')"
      ],
      "metadata": {
        "id": "bK8gUKppZHeD"
      },
      "execution_count": null,
      "outputs": []
    },
    {
      "cell_type": "code",
      "source": [
        "# Predict Code Part\n",
        "test_image = image.load_img('image_test_model path', target_size=(64,64))\n",
        "test_image =  image.img_to_array(test_image)\n",
        "test_image = np.expand_dims(test_image, axis=0)\n",
        "\n",
        "result = model.predict(test_image)\n",
        "\n",
        "prediction = (result > 0.005).astype(int)\n",
        "\n",
        "print(prediction)\n",
        "\n",
        "if prediction[0][0] == 1:\n",
        "  prediction = 'Non_Cancer'\n",
        "\n",
        "else:\n",
        "  prediction = 'Cancer'\n",
        "\n",
        "print('the prediction result is:', prediction)"
      ],
      "metadata": {
        "colab": {
          "base_uri": "https://localhost:8080/"
        },
        "id": "i-xH_3o3i9Z0",
        "outputId": "52d538a9-dcea-487f-dadd-8848c78d21f9"
      },
      "execution_count": 85,
      "outputs": [
        {
          "output_type": "stream",
          "name": "stdout",
          "text": [
            "\u001b[1m1/1\u001b[0m \u001b[32m━━━━━━━━━━━━━━━━━━━━\u001b[0m\u001b[37m\u001b[0m \u001b[1m0s\u001b[0m 231ms/step\n",
            "[[0]]\n",
            "the prediction result is: Cancer\n"
          ]
        }
      ]
    }
  ]
}